{
 "cells": [
  {
   "cell_type": "code",
   "execution_count": 1,
   "metadata": {
    "collapsed": false
   },
   "outputs": [
    {
     "name": "stderr",
     "output_type": "stream",
     "text": [
      "/Users/luckydog/anaconda/lib/python2.7/site-packages/matplotlib/font_manager.py:273: UserWarning: Matplotlib is building the font cache using fc-list. This may take a moment.\n",
      "  warnings.warn('Matplotlib is building the font cache using fc-list. This may take a moment.')\n"
     ]
    }
   ],
   "source": [
    "import matplotlib.pyplot as plt\n",
    "import pandas as pd\n",
    "from urllib2 import urlopen \n",
    "import numpy as np"
   ]
  },
  {
   "cell_type": "code",
   "execution_count": 2,
   "metadata": {
    "collapsed": true
   },
   "outputs": [],
   "source": [
    "page = urlopen(\"http://datasets.flowingdata.com/ppg2008.csv\")\n",
    "nba = pd.read_csv(page, index_col=0)"
   ]
  },
  {
   "cell_type": "code",
   "execution_count": 3,
   "metadata": {
    "collapsed": false
   },
   "outputs": [
    {
     "name": "stderr",
     "output_type": "stream",
     "text": [
      "/Users/luckydog/anaconda/lib/python2.7/site-packages/ipykernel/__main__.py:5: FutureWarning: sort(columns=....) is deprecated, use sort_values(by=.....)\n"
     ]
    }
   ],
   "source": [
    "# Normalize data columns\n",
    "nba_norm = (nba - nba.mean()) / (nba.max() - nba.min())\n",
    "# Sort data according to Points, lowest to highest\n",
    "# This was just a design choice made by Yau\n",
    "nba_sort = nba_norm.sort('PTS',ascending=True, inplace=True)"
   ]
  },
  {
   "cell_type": "code",
   "execution_count": 4,
   "metadata": {
    "collapsed": false
   },
   "outputs": [
    {
     "ename": "SyntaxError",
     "evalue": "invalid syntax (<ipython-input-4-b921944a6947>, line 14)",
     "output_type": "error",
     "traceback": [
      "\u001b[0;36m  File \u001b[0;32m\"<ipython-input-4-b921944a6947>\"\u001b[0;36m, line \u001b[0;32m14\u001b[0m\n\u001b[0;31m    Out[24]:\u001b[0m\n\u001b[0m           ^\u001b[0m\n\u001b[0;31mSyntaxError\u001b[0m\u001b[0;31m:\u001b[0m invalid syntax\n"
     ]
    }
   ],
   "source": [
    "'''\n",
    "-------------------------------------------------------------------------------\n",
    "Filename   : heatmap.py\n",
    "Date       : 2013-04-19\n",
    "Author     : Joe Lotz\n",
    "Description: My attempt at reproducing the FlowingData graphic in Python\n",
    "Source     : http://flowingdata.com/2010/01/21/how-to-make-a-heatmap-a-quick-and-easy-solution/\n",
    "\n",
    "Other Links:\n",
    "    http://stackoverflow.com/questions/14391959/heatmap-in-matplotlib-with-pcolor\n",
    "    \n",
    "-------------------------------------------------------------------------------\n",
    "'''\n",
    "Out[24]:\n",
    "'\\n-------------------------------------------------------------------------------\\nFilename   : heatmap.py\\nDate       : 2013-04-19\\nAuthor     : Joe Lotz\\nDescription: My attempt at reproducing the FlowingData graphic in Python\\nSource     : http://flowingdata.com/2010/01/21/how-to-make-a-heatmap-a-quick-and-easy-solution/\\n\\nOther Links:\\n    http://stackoverflow.com/questions/14391959/heatmap-in-matplotlib-with-pcolor\\n    \\n-------------------------------------------------------------------------------\\n'\n",
    "In [2]:\n",
    "import matplotlib.pyplot as plt\n",
    "import pandas as pd\n",
    "from urllib2 import urlopen \n",
    "import numpy as np\n",
    "In [3]:\n",
    "page = urlopen(\"http://datasets.flowingdata.com/ppg2008.csv\")\n",
    "nba = pd.read_csv(page, index_col=0)\n",
    "In [4]:\n",
    "# Normalize data columns\n",
    "nba_norm = (nba - nba.mean()) / (nba.max() - nba.min())\n",
    "# Sort data according to Points, lowest to highest\n",
    "# This was just a design choice made by Yau\n",
    "nba_sort = nba_norm.sort('PTS',ascending=True, inplace=True)\n",
    "In [23]:\n",
    "# Plot it out\n",
    "fig, ax = plt.subplots()\n",
    "heatmap = ax.pcolor(nba_sort, cmap=plt.cm.Blues, alpha=0.8)\n",
    "\n",
    "##################################################\n",
    "## FORMAT ##\n",
    "##################################################\n",
    "\n",
    "fig = plt.gcf()\n",
    "fig.set_size_inches(8,11)\n",
    "\n",
    "# turn off the frame\n",
    "ax.set_frame_on(False)\n",
    "\n",
    "# put the major ticks at the middle of each cell\n",
    "ax.set_yticks(np.arange(nba_sort.shape[0])+0.5, minor=False)\n",
    "ax.set_xticks(np.arange(nba_sort.shape[1])+0.5, minor=False)\n",
    "\n",
    "# want a more natural, table-like display\n",
    "ax.invert_yaxis()\n",
    "ax.xaxis.tick_top()\n",
    "\n",
    "# Set the labels\n",
    "\n",
    "# label source:https://en.wikipedia.org/wiki/Basketball_statistics\n",
    "labels = ['Games','Minutes','Points','Field goals made','Field goal attempts','Field goal percentage','Free throws made','Free throws attempts','Free throws percentage','Three-pointers made','Three-point attempt','Three-point percentage','Offensive rebounds','Defensive rebounds','Total rebounds','Assists','Steals','Blocks','Turnover','Personal foul']\n",
    "\n",
    "# note I could have used nba_sort.columns but made \"labels\" instead\n",
    "ax.set_xticklabels(labels, minor=False) \n",
    "ax.set_yticklabels(nba_sort.index, minor=False)\n",
    "\n",
    "# rotate the \n",
    "plt.xticks(rotation=90)\n",
    "\n",
    "ax.grid(False)\n",
    "\n",
    "# Turn off all the ticks\n",
    "ax = plt.gca()\n",
    "\n",
    "for t in ax.xaxis.get_major_ticks(): \n",
    "    t.tick1On = False \n",
    "    t.tick2On = False \n",
    "for t in ax.yaxis.get_major_ticks(): \n",
    "    t.tick1On = False \n",
    "    t.tick2On = False  \n"
   ]
  },
  {
   "cell_type": "code",
   "execution_count": null,
   "metadata": {
    "collapsed": true
   },
   "outputs": [],
   "source": []
  }
 ],
 "metadata": {
  "kernelspec": {
   "display_name": "Python 2",
   "language": "python",
   "name": "python2"
  },
  "language_info": {
   "codemirror_mode": {
    "name": "ipython",
    "version": 2
   },
   "file_extension": ".py",
   "mimetype": "text/x-python",
   "name": "python",
   "nbconvert_exporter": "python",
   "pygments_lexer": "ipython2",
   "version": "2.7.11"
  }
 },
 "nbformat": 4,
 "nbformat_minor": 0
}
